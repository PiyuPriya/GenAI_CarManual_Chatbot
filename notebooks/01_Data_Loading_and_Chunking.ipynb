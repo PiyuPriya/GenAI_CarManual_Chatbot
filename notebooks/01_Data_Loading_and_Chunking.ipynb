{
 "cells": [
  {
   "cell_type": "code",
   "execution_count": 0,
   "metadata": {
    "application/vnd.databricks.v1+cell": {
     "cellMetadata": {
      "byteLimit": 2048000,
      "rowLimit": 10000
     },
     "inputWidgets": {},
     "nuid": "5ddaa30d-fadd-42ee-bc1c-8a9d3371f9f2",
     "showTitle": false,
     "tableResultSettingsMap": {},
     "title": ""
    }
   },
   "outputs": [],
   "source": [
    "%run ./00_setup_environment.ipynb/\n"
   ]
  },
  {
   "cell_type": "code",
   "execution_count": 0,
   "metadata": {
    "application/vnd.databricks.v1+cell": {
     "cellMetadata": {
      "byteLimit": 2048000,
      "rowLimit": 10000
     },
     "inputWidgets": {},
     "nuid": "481e87fc-a1fb-4132-a650-c338ba72eb2d",
     "showTitle": false,
     "tableResultSettingsMap": {},
     "title": ""
    }
   },
   "outputs": [],
   "source": [
    "# Databricks notebook: Load, Chunk, and Save Manuals\n",
    "\n",
    "from PyPDF2 import PdfReader\n",
    "from langchain.text_splitter import RecursiveCharacterTextSplitter\n",
    "from pyspark.sql import SparkSession\n",
    "from pyspark.sql.types import StructType, StructField, StringType\n",
    "import os"
   ]
  },
  {
   "cell_type": "code",
   "execution_count": 0,
   "metadata": {
    "application/vnd.databricks.v1+cell": {
     "cellMetadata": {
      "byteLimit": 2048000,
      "rowLimit": 10000
     },
     "inputWidgets": {},
     "nuid": "2c887fa2-15b3-4f40-838f-cbb833c7be30",
     "showTitle": false,
     "tableResultSettingsMap": {},
     "title": ""
    }
   },
   "outputs": [],
   "source": [
    "# Function to load and extract text from PDF\n",
    "def load_pdf_pages(pdf_path):\n",
    "    reader = PdfReader(pdf_path)\n",
    "    pages = []\n",
    "    for i, page in enumerate(reader.pages):\n",
    "        text = page.extract_text()\n",
    "        if text and is_useful_page(text):\n",
    "            pages.append(text)\n",
    "        else:\n",
    "            print(f\"Skipping page {i+1}: likely TOC or not useful\")\n",
    "    return pages\n",
    "\n",
    "def is_useful_page(text):\n",
    "    text_lower = text.lower()\n",
    "    # Skip table of contents, indexes, and short pages\n",
    "    return (\n",
    "        \"table of contents\" not in text_lower and\n",
    "        \"index\" not in text_lower and\n",
    "        len(text.strip()) > 400 and\n",
    "        text.count(\". . .\") < 5  # These patterns often indicate TOC or index\n",
    "    )\n",
    "\n",
    "\n",
    "# Function to chunk text\n",
    "def chunk_useful_texts(pages, language, source):\n",
    "    splitter = RecursiveCharacterTextSplitter(chunk_size=1000, chunk_overlap=200)\n",
    "    \n",
    "    useful_pages = [page for page in pages if is_useful_page(page)]\n",
    "    \n",
    "    all_chunks = []\n",
    "    for page in useful_pages:\n",
    "        docs = splitter.create_documents([page])\n",
    "        for doc in docs:\n",
    "            all_chunks.append({\n",
    "                \"text\": doc.page_content,\n",
    "                \"language\": language,\n",
    "                \"source\": source\n",
    "            })\n",
    "    \n",
    "    return all_chunks\n",
    "\n",
    "\n",
    "# Paths\n",
    "manual_base = \"/Workspace/Users/pbmarihal3929@gmail.com/GenAI_CarManual_Chatbot_Repo/data\"\n",
    "english_path = f\"{manual_base}/a4-2025-owners-manual.pdf\"\n",
    "german_path = f\"{manual_base}/a4-2025-betriebsanleitung.pdf\"\n"
   ]
  },
  {
   "cell_type": "code",
   "execution_count": 0,
   "metadata": {
    "application/vnd.databricks.v1+cell": {
     "cellMetadata": {
      "byteLimit": 2048000,
      "rowLimit": 10000
     },
     "inputWidgets": {},
     "nuid": "90fcd199-4f70-421f-8b56-0e2ad04b7e2d",
     "showTitle": false,
     "tableResultSettingsMap": {},
     "title": ""
    }
   },
   "outputs": [],
   "source": [
    "english_pages = load_pdf_pages(english_path)\n",
    "german_pages = load_pdf_pages(german_path)\n",
    "\n",
    "english_chunks = chunk_useful_texts(english_pages, \"English\", \"a4-2025-owners-manual.pdf\")\n",
    "german_chunks = chunk_useful_texts(german_pages, \"German\", \"a4-2025-betriebsanleitung.pdf\")\n",
    "\n",
    "# Combine and create Spark DataFrame\n",
    "all_chunks = english_chunks + german_chunks\n",
    "schema = StructType([\n",
    "    StructField(\"text\", StringType(), True),\n",
    "    StructField(\"language\", StringType(), True),\n",
    "    StructField(\"source\", StringType(), True)\n",
    "])\n",
    "df = spark.createDataFrame(all_chunks, schema=schema)\n",
    "\n",
    "# Save to Unity Catalog volume (or use DBFS if needed)\n",
    "output_path = \"/Volumes/genai_catalog/car_manuals/manual_chunks/chunks_delta\"\n",
    "df.write.mode(\"overwrite\").format(\"delta\").save(output_path)\n",
    "\n",
    "print(f\"Saved {df.count()} chunks to: {output_path}\")\n"
   ]
  },
  {
   "cell_type": "code",
   "execution_count": 0,
   "metadata": {
    "application/vnd.databricks.v1+cell": {
     "cellMetadata": {},
     "inputWidgets": {},
     "nuid": "9681632c-3410-4dfe-ad3d-23e98037a7ff",
     "showTitle": false,
     "tableResultSettingsMap": {},
     "title": ""
    }
   },
   "outputs": [],
   "source": []
  }
 ],
 "metadata": {
  "application/vnd.databricks.v1+notebook": {
   "computePreferences": null,
   "dashboards": [],
   "environmentMetadata": {
    "base_environment": "",
    "environment_version": "2"
   },
   "inputWidgetPreferences": null,
   "language": "python",
   "notebookMetadata": {
    "pythonIndentUnit": 4
   },
   "notebookName": "01_Data_Loading_and_Chunking",
   "widgets": {}
  },
  "language_info": {
   "name": "python"
  }
 },
 "nbformat": 4,
 "nbformat_minor": 0
}
