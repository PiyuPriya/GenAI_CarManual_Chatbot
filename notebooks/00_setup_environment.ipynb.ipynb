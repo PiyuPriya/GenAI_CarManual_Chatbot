{
 "cells": [
  {
   "cell_type": "code",
   "execution_count": 0,
   "metadata": {
    "application/vnd.databricks.v1+cell": {
     "cellMetadata": {
      "byteLimit": 2048000,
      "rowLimit": 10000
     },
     "inputWidgets": {},
     "nuid": "ee6d231b-be3f-4796-b8a7-d89f6fffcf17",
     "showTitle": false,
     "tableResultSettingsMap": {},
     "title": ""
    }
   },
   "outputs": [],
   "source": [
    "# 📦 Full dependency install for RAG Chatbot (LangChain + FAISS + HuggingFace)\n",
    "%pip install --upgrade \\\n",
    "    langchain \\\n",
    "    langchain-community \\\n",
    "    langchain-core \\\n",
    "    langchain-huggingface \\\n",
    "    sentence-transformers \\\n",
    "    faiss-cpu \\\n",
    "    pypdf \\\n",
    "    PyPDF2 \\\n",
    "    transformers \\\n",
    "    accelerate \\\n",
    "    huggingface_hub \\\n",
    "    datasets \\\n",
    "    tiktoken \\\n",
    "    pydantic \\\n",
    "    ipywidgets\n"
   ]
  },
  {
   "cell_type": "code",
   "execution_count": 0,
   "metadata": {
    "application/vnd.databricks.v1+cell": {
     "cellMetadata": {
      "byteLimit": 2048000,
      "rowLimit": 10000
     },
     "inputWidgets": {},
     "nuid": "1bf17fc7-261f-4e5b-b423-20ecb6cf6343",
     "showTitle": false,
     "tableResultSettingsMap": {},
     "title": ""
    }
   },
   "outputs": [],
   "source": [
    "dbutils.library.restartPython()\n"
   ]
  },
  {
   "cell_type": "code",
   "execution_count": 0,
   "metadata": {
    "application/vnd.databricks.v1+cell": {
     "cellMetadata": {},
     "inputWidgets": {},
     "nuid": "dc95aef6-35fd-4b5f-b6dd-6c510efd5fa1",
     "showTitle": false,
     "tableResultSettingsMap": {},
     "title": ""
    }
   },
   "outputs": [],
   "source": []
  }
 ],
 "metadata": {
  "application/vnd.databricks.v1+notebook": {
   "computePreferences": null,
   "dashboards": [],
   "environmentMetadata": {
    "base_environment": "",
    "environment_version": "2"
   },
   "inputWidgetPreferences": null,
   "language": "python",
   "notebookMetadata": {
    "pythonIndentUnit": 4
   },
   "notebookName": "00_setup_environment.ipynb",
   "widgets": {}
  },
  "language_info": {
   "name": "python"
  }
 },
 "nbformat": 4,
 "nbformat_minor": 0
}
